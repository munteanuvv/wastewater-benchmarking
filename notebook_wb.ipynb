{
 "cells": [
  {
   "cell_type": "code",
   "execution_count": 1,
   "id": "a1085fbd",
   "metadata": {},
   "outputs": [],
   "source": [
    "%%bash\n",
    "cat > .gitignore\n",
    ".*\n",
    ".gitignore"
   ]
  },
  {
   "cell_type": "code",
   "execution_count": 2,
   "id": "b812bec4",
   "metadata": {},
   "outputs": [],
   "source": [
    "%%bash\n",
    "git config --global user.email \"viorelmunteanu.md@gmail.com\"\n",
    "git config --global user.name \"Viorel Munteanu\"\n",
    "git config --global core.editor \"notepad\""
   ]
  },
  {
   "cell_type": "code",
   "execution_count": 3,
   "id": "0f38ec72",
   "metadata": {},
   "outputs": [
    {
     "name": "stdout",
     "output_type": "stream",
     "text": [
      "Initialized empty Git repository in /mnt/c/Users/user/wastewater_benchmarking/.git/\n"
     ]
    }
   ],
   "source": [
    "%%bash\n",
    "git init"
   ]
  },
  {
   "cell_type": "code",
   "execution_count": 5,
   "id": "18a3777c",
   "metadata": {},
   "outputs": [
    {
     "name": "stdout",
     "output_type": "stream",
     "text": [
      ".\n",
      "..\n",
      ".git\n",
      ".gitignore\n",
      ".ipynb_checkpoints\n",
      "notebook_wb.ipynb\n",
      "simseq_out\n"
     ]
    }
   ],
   "source": [
    "%%bash\n",
    "ls -a"
   ]
  },
  {
   "cell_type": "code",
   "execution_count": 11,
   "id": "633b9736",
   "metadata": {},
   "outputs": [
    {
     "name": "stderr",
     "output_type": "stream",
     "text": [
      "mkdir: cannot create directory ‘wbRepository’: File exists\n"
     ]
    }
   ],
   "source": [
    "%%bash\n",
    "mkdir wbRepository\n",
    "cd wbRepository\n",
    "touch README"
   ]
  },
  {
   "cell_type": "code",
   "execution_count": 12,
   "id": "a5b8b670",
   "metadata": {},
   "outputs": [
    {
     "name": "stdout",
     "output_type": "stream",
     "text": [
      "README\n"
     ]
    }
   ],
   "source": [
    "%%bash\n",
    "cd wbRepository\n",
    "ls"
   ]
  },
  {
   "cell_type": "code",
   "execution_count": 13,
   "id": "8f1c2587",
   "metadata": {},
   "outputs": [],
   "source": [
    "%%bash\n",
    "cd wbRepository\n",
    "mkdir data summarydata notebooks figures"
   ]
  },
  {
   "cell_type": "code",
   "execution_count": 15,
   "id": "48221a54",
   "metadata": {
    "scrolled": true
   },
   "outputs": [],
   "source": [
    "%%bash\n",
    "cd wbRepository\n",
    "cat > README\n",
    "This repository contains preliminary data for \"A rigorous benchmarking of methods for SARS-CoV-2 lineage abundance estimation in wastewater\" project"
   ]
  },
  {
   "cell_type": "code",
   "execution_count": null,
   "id": "bf2b971f",
   "metadata": {},
   "outputs": [],
   "source": [
    "%%bash\n",
    "git add*\n",
    "git commit -m \"prelimary data - first commit\""
   ]
  }
 ],
 "metadata": {
  "kernelspec": {
   "display_name": "Python 3 (ipykernel)",
   "language": "python",
   "name": "python3"
  },
  "language_info": {
   "codemirror_mode": {
    "name": "ipython",
    "version": 3
   },
   "file_extension": ".py",
   "mimetype": "text/x-python",
   "name": "python",
   "nbconvert_exporter": "python",
   "pygments_lexer": "ipython3",
   "version": "3.8.8"
  }
 },
 "nbformat": 4,
 "nbformat_minor": 5
}
